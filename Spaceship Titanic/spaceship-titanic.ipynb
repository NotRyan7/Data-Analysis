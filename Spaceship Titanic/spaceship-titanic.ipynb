{
 "cells": [
  {
   "cell_type": "code",
   "execution_count": 1,
   "id": "f0dfcd33",
   "metadata": {
    "_cell_guid": "b1076dfc-b9ad-4769-8c92-a6c4dae69d19",
    "_uuid": "8f2839f25d086af736a60e9eeb907d3b93b6e0e5",
    "execution": {
     "iopub.execute_input": "2024-09-07T03:05:26.909014Z",
     "iopub.status.busy": "2024-09-07T03:05:26.907563Z",
     "iopub.status.idle": "2024-09-07T03:05:27.389005Z",
     "shell.execute_reply": "2024-09-07T03:05:27.387751Z"
    },
    "papermill": {
     "duration": 0.495295,
     "end_time": "2024-09-07T03:05:27.392218",
     "exception": false,
     "start_time": "2024-09-07T03:05:26.896923",
     "status": "completed"
    },
    "tags": []
   },
   "outputs": [
    {
     "name": "stdout",
     "output_type": "stream",
     "text": [
      "/kaggle/input/spaceship-titanic/sample_submission.csv\n",
      "/kaggle/input/spaceship-titanic/train.csv\n",
      "/kaggle/input/spaceship-titanic/test.csv\n"
     ]
    }
   ],
   "source": [
    "# This Python 3 environment comes with many helpful analytics libraries installed\n",
    "# It is defined by the kaggle/python Docker image: https://github.com/kaggle/docker-python\n",
    "# For example, here's several helpful packages to load\n",
    "\n",
    "import numpy as np # linear algebra\n",
    "import pandas as pd # data processing, CSV file I/O (e.g. pd.read_csv)\n",
    "\n",
    "# Input data files are available in the read-only \"../input/\" directory\n",
    "# For example, running this (by clicking run or pressing Shift+Enter) will list all files under the input directory\n",
    "\n",
    "import os\n",
    "for dirname, _, filenames in os.walk('/kaggle/input'):\n",
    "    for filename in filenames:\n",
    "        print(os.path.join(dirname, filename))\n",
    "\n",
    "# You can write up to 20GB to the current directory (/kaggle/working/) that gets preserved as output when you create a version using \"Save & Run All\" \n",
    "# You can also write temporary files to /kaggle/temp/, but they won't be saved outside of the current session"
   ]
  },
  {
   "cell_type": "code",
   "execution_count": 2,
   "id": "e0e5fe89",
   "metadata": {
    "execution": {
     "iopub.execute_input": "2024-09-07T03:05:27.415729Z",
     "iopub.status.busy": "2024-09-07T03:05:27.415188Z",
     "iopub.status.idle": "2024-09-07T03:05:29.234565Z",
     "shell.execute_reply": "2024-09-07T03:05:29.233367Z"
    },
    "papermill": {
     "duration": 1.833555,
     "end_time": "2024-09-07T03:05:29.237457",
     "exception": false,
     "start_time": "2024-09-07T03:05:27.403902",
     "status": "completed"
    },
    "tags": []
   },
   "outputs": [],
   "source": [
    "import pandas as pd\n",
    "import numpy as npy\n",
    "import seaborn as sns\n",
    "import matplotlib.pyplot as plt"
   ]
  },
  {
   "cell_type": "code",
   "execution_count": 3,
   "id": "121505df",
   "metadata": {
    "execution": {
     "iopub.execute_input": "2024-09-07T03:05:29.255759Z",
     "iopub.status.busy": "2024-09-07T03:05:29.255129Z",
     "iopub.status.idle": "2024-09-07T03:05:29.838756Z",
     "shell.execute_reply": "2024-09-07T03:05:29.837434Z"
    },
    "papermill": {
     "duration": 0.59613,
     "end_time": "2024-09-07T03:05:29.841736",
     "exception": false,
     "start_time": "2024-09-07T03:05:29.245606",
     "status": "completed"
    },
    "tags": []
   },
   "outputs": [],
   "source": [
    "from sklearn.model_selection import train_test_split\n",
    "from sklearn.svm import SVC\n",
    "from sklearn.ensemble import RandomForestClassifier\n",
    "from sklearn.linear_model import LogisticRegression\n",
    "from sklearn.metrics import roc_auc_score, accuracy_score, f1_score, confusion_matrix, classification_report\n",
    "from sklearn.ensemble import RandomForestClassifier"
   ]
  },
  {
   "cell_type": "code",
   "execution_count": 4,
   "id": "d64816a0",
   "metadata": {
    "execution": {
     "iopub.execute_input": "2024-09-07T03:05:29.861184Z",
     "iopub.status.busy": "2024-09-07T03:05:29.859984Z",
     "iopub.status.idle": "2024-09-07T03:05:29.963920Z",
     "shell.execute_reply": "2024-09-07T03:05:29.962720Z"
    },
    "papermill": {
     "duration": 0.116712,
     "end_time": "2024-09-07T03:05:29.966977",
     "exception": false,
     "start_time": "2024-09-07T03:05:29.850265",
     "status": "completed"
    },
    "tags": []
   },
   "outputs": [],
   "source": [
    "test = pd.read_csv('/kaggle/input/spaceship-titanic/train.csv')\n",
    "test = pd.read_csv('/kaggle/input/spaceship-titanic/test.csv')"
   ]
  },
  {
   "cell_type": "code",
   "execution_count": 5,
   "id": "8867de5d",
   "metadata": {
    "execution": {
     "iopub.execute_input": "2024-09-07T03:05:29.985963Z",
     "iopub.status.busy": "2024-09-07T03:05:29.985463Z",
     "iopub.status.idle": "2024-09-07T03:05:30.006495Z",
     "shell.execute_reply": "2024-09-07T03:05:30.005261Z"
    },
    "papermill": {
     "duration": 0.033712,
     "end_time": "2024-09-07T03:05:30.009220",
     "exception": false,
     "start_time": "2024-09-07T03:05:29.975508",
     "status": "completed"
    },
    "tags": []
   },
   "outputs": [
    {
     "data": {
      "text/plain": [
       "PassengerId       0\n",
       "HomePlanet       87\n",
       "CryoSleep        93\n",
       "Cabin           100\n",
       "Destination      92\n",
       "Age              91\n",
       "VIP              93\n",
       "RoomService      82\n",
       "FoodCourt       106\n",
       "ShoppingMall     98\n",
       "Spa             101\n",
       "VRDeck           80\n",
       "Name             94\n",
       "dtype: int64"
      ]
     },
     "execution_count": 5,
     "metadata": {},
     "output_type": "execute_result"
    }
   ],
   "source": [
    "test.isnull().sum()"
   ]
  },
  {
   "cell_type": "code",
   "execution_count": 6,
   "id": "fea37023",
   "metadata": {
    "execution": {
     "iopub.execute_input": "2024-09-07T03:05:30.027735Z",
     "iopub.status.busy": "2024-09-07T03:05:30.027312Z",
     "iopub.status.idle": "2024-09-07T03:05:30.040799Z",
     "shell.execute_reply": "2024-09-07T03:05:30.039543Z"
    },
    "papermill": {
     "duration": 0.025866,
     "end_time": "2024-09-07T03:05:30.043345",
     "exception": false,
     "start_time": "2024-09-07T03:05:30.017479",
     "status": "completed"
    },
    "tags": []
   },
   "outputs": [
    {
     "data": {
      "text/plain": [
       "PassengerId       0\n",
       "HomePlanet       87\n",
       "CryoSleep        93\n",
       "Cabin           100\n",
       "Destination      92\n",
       "Age              91\n",
       "VIP              93\n",
       "RoomService      82\n",
       "FoodCourt       106\n",
       "ShoppingMall     98\n",
       "Spa             101\n",
       "VRDeck           80\n",
       "Name             94\n",
       "dtype: int64"
      ]
     },
     "execution_count": 6,
     "metadata": {},
     "output_type": "execute_result"
    }
   ],
   "source": [
    "test.isnull().sum()"
   ]
  },
  {
   "cell_type": "code",
   "execution_count": 7,
   "id": "4f604604",
   "metadata": {
    "execution": {
     "iopub.execute_input": "2024-09-07T03:05:30.062133Z",
     "iopub.status.busy": "2024-09-07T03:05:30.061677Z",
     "iopub.status.idle": "2024-09-07T03:05:30.070878Z",
     "shell.execute_reply": "2024-09-07T03:05:30.069849Z"
    },
    "papermill": {
     "duration": 0.021558,
     "end_time": "2024-09-07T03:05:30.073263",
     "exception": false,
     "start_time": "2024-09-07T03:05:30.051705",
     "status": "completed"
    },
    "tags": []
   },
   "outputs": [
    {
     "data": {
      "text/plain": [
       "PassengerId      object\n",
       "HomePlanet       object\n",
       "CryoSleep        object\n",
       "Cabin            object\n",
       "Destination      object\n",
       "Age             float64\n",
       "VIP              object\n",
       "RoomService     float64\n",
       "FoodCourt       float64\n",
       "ShoppingMall    float64\n",
       "Spa             float64\n",
       "VRDeck          float64\n",
       "Name             object\n",
       "dtype: object"
      ]
     },
     "execution_count": 7,
     "metadata": {},
     "output_type": "execute_result"
    }
   ],
   "source": [
    "test.dtypes"
   ]
  },
  {
   "cell_type": "code",
   "execution_count": 8,
   "id": "ac1752ba",
   "metadata": {
    "execution": {
     "iopub.execute_input": "2024-09-07T03:05:30.092844Z",
     "iopub.status.busy": "2024-09-07T03:05:30.092369Z",
     "iopub.status.idle": "2024-09-07T03:05:30.102185Z",
     "shell.execute_reply": "2024-09-07T03:05:30.100470Z"
    },
    "papermill": {
     "duration": 0.023222,
     "end_time": "2024-09-07T03:05:30.105102",
     "exception": false,
     "start_time": "2024-09-07T03:05:30.081880",
     "status": "completed"
    },
    "tags": []
   },
   "outputs": [
    {
     "data": {
      "text/plain": [
       "PassengerId      object\n",
       "HomePlanet       object\n",
       "CryoSleep        object\n",
       "Cabin            object\n",
       "Destination      object\n",
       "Age             float64\n",
       "VIP              object\n",
       "RoomService     float64\n",
       "FoodCourt       float64\n",
       "ShoppingMall    float64\n",
       "Spa             float64\n",
       "VRDeck          float64\n",
       "Name             object\n",
       "dtype: object"
      ]
     },
     "execution_count": 8,
     "metadata": {},
     "output_type": "execute_result"
    }
   ],
   "source": [
    "test.dtypes"
   ]
  },
  {
   "cell_type": "code",
   "execution_count": 9,
   "id": "d110809b",
   "metadata": {
    "execution": {
     "iopub.execute_input": "2024-09-07T03:05:30.125117Z",
     "iopub.status.busy": "2024-09-07T03:05:30.124674Z",
     "iopub.status.idle": "2024-09-07T03:05:30.153164Z",
     "shell.execute_reply": "2024-09-07T03:05:30.151924Z"
    },
    "papermill": {
     "duration": 0.041921,
     "end_time": "2024-09-07T03:05:30.155937",
     "exception": false,
     "start_time": "2024-09-07T03:05:30.114016",
     "status": "completed"
    },
    "tags": []
   },
   "outputs": [
    {
     "data": {
      "text/html": [
       "<div>\n",
       "<style scoped>\n",
       "    .dataframe tbody tr th:only-of-type {\n",
       "        vertical-align: middle;\n",
       "    }\n",
       "\n",
       "    .dataframe tbody tr th {\n",
       "        vertical-align: top;\n",
       "    }\n",
       "\n",
       "    .dataframe thead th {\n",
       "        text-align: right;\n",
       "    }\n",
       "</style>\n",
       "<table border=\"1\" class=\"dataframe\">\n",
       "  <thead>\n",
       "    <tr style=\"text-align: right;\">\n",
       "      <th></th>\n",
       "      <th>PassengerId</th>\n",
       "      <th>HomePlanet</th>\n",
       "      <th>CryoSleep</th>\n",
       "      <th>Cabin</th>\n",
       "      <th>Destination</th>\n",
       "      <th>Age</th>\n",
       "      <th>VIP</th>\n",
       "      <th>RoomService</th>\n",
       "      <th>FoodCourt</th>\n",
       "      <th>ShoppingMall</th>\n",
       "      <th>Spa</th>\n",
       "      <th>VRDeck</th>\n",
       "      <th>Name</th>\n",
       "    </tr>\n",
       "  </thead>\n",
       "  <tbody>\n",
       "    <tr>\n",
       "      <th>0</th>\n",
       "      <td>0013_01</td>\n",
       "      <td>Earth</td>\n",
       "      <td>True</td>\n",
       "      <td>G/3/S</td>\n",
       "      <td>TRAPPIST-1e</td>\n",
       "      <td>27.0</td>\n",
       "      <td>False</td>\n",
       "      <td>0.0</td>\n",
       "      <td>0.0</td>\n",
       "      <td>0.0</td>\n",
       "      <td>0.0</td>\n",
       "      <td>0.0</td>\n",
       "      <td>Nelly Carsoning</td>\n",
       "    </tr>\n",
       "    <tr>\n",
       "      <th>1</th>\n",
       "      <td>0018_01</td>\n",
       "      <td>Earth</td>\n",
       "      <td>False</td>\n",
       "      <td>F/4/S</td>\n",
       "      <td>TRAPPIST-1e</td>\n",
       "      <td>19.0</td>\n",
       "      <td>False</td>\n",
       "      <td>0.0</td>\n",
       "      <td>9.0</td>\n",
       "      <td>0.0</td>\n",
       "      <td>2823.0</td>\n",
       "      <td>0.0</td>\n",
       "      <td>Lerome Peckers</td>\n",
       "    </tr>\n",
       "    <tr>\n",
       "      <th>2</th>\n",
       "      <td>0019_01</td>\n",
       "      <td>Europa</td>\n",
       "      <td>True</td>\n",
       "      <td>C/0/S</td>\n",
       "      <td>55 Cancri e</td>\n",
       "      <td>31.0</td>\n",
       "      <td>False</td>\n",
       "      <td>0.0</td>\n",
       "      <td>0.0</td>\n",
       "      <td>0.0</td>\n",
       "      <td>0.0</td>\n",
       "      <td>0.0</td>\n",
       "      <td>Sabih Unhearfus</td>\n",
       "    </tr>\n",
       "    <tr>\n",
       "      <th>3</th>\n",
       "      <td>0021_01</td>\n",
       "      <td>Europa</td>\n",
       "      <td>False</td>\n",
       "      <td>C/1/S</td>\n",
       "      <td>TRAPPIST-1e</td>\n",
       "      <td>38.0</td>\n",
       "      <td>False</td>\n",
       "      <td>0.0</td>\n",
       "      <td>6652.0</td>\n",
       "      <td>0.0</td>\n",
       "      <td>181.0</td>\n",
       "      <td>585.0</td>\n",
       "      <td>Meratz Caltilter</td>\n",
       "    </tr>\n",
       "    <tr>\n",
       "      <th>4</th>\n",
       "      <td>0023_01</td>\n",
       "      <td>Earth</td>\n",
       "      <td>False</td>\n",
       "      <td>F/5/S</td>\n",
       "      <td>TRAPPIST-1e</td>\n",
       "      <td>20.0</td>\n",
       "      <td>False</td>\n",
       "      <td>10.0</td>\n",
       "      <td>0.0</td>\n",
       "      <td>635.0</td>\n",
       "      <td>0.0</td>\n",
       "      <td>0.0</td>\n",
       "      <td>Brence Harperez</td>\n",
       "    </tr>\n",
       "  </tbody>\n",
       "</table>\n",
       "</div>"
      ],
      "text/plain": [
       "  PassengerId HomePlanet CryoSleep  Cabin  Destination   Age    VIP  \\\n",
       "0     0013_01      Earth      True  G/3/S  TRAPPIST-1e  27.0  False   \n",
       "1     0018_01      Earth     False  F/4/S  TRAPPIST-1e  19.0  False   \n",
       "2     0019_01     Europa      True  C/0/S  55 Cancri e  31.0  False   \n",
       "3     0021_01     Europa     False  C/1/S  TRAPPIST-1e  38.0  False   \n",
       "4     0023_01      Earth     False  F/5/S  TRAPPIST-1e  20.0  False   \n",
       "\n",
       "   RoomService  FoodCourt  ShoppingMall     Spa  VRDeck              Name  \n",
       "0          0.0        0.0           0.0     0.0     0.0   Nelly Carsoning  \n",
       "1          0.0        9.0           0.0  2823.0     0.0    Lerome Peckers  \n",
       "2          0.0        0.0           0.0     0.0     0.0   Sabih Unhearfus  \n",
       "3          0.0     6652.0           0.0   181.0   585.0  Meratz Caltilter  \n",
       "4         10.0        0.0         635.0     0.0     0.0   Brence Harperez  "
      ]
     },
     "execution_count": 9,
     "metadata": {},
     "output_type": "execute_result"
    }
   ],
   "source": [
    "test.head()"
   ]
  },
  {
   "cell_type": "code",
   "execution_count": 10,
   "id": "7d347c91",
   "metadata": {
    "execution": {
     "iopub.execute_input": "2024-09-07T03:05:30.177242Z",
     "iopub.status.busy": "2024-09-07T03:05:30.176066Z",
     "iopub.status.idle": "2024-09-07T03:05:30.198782Z",
     "shell.execute_reply": "2024-09-07T03:05:30.197492Z"
    },
    "papermill": {
     "duration": 0.03603,
     "end_time": "2024-09-07T03:05:30.201505",
     "exception": false,
     "start_time": "2024-09-07T03:05:30.165475",
     "status": "completed"
    },
    "tags": []
   },
   "outputs": [
    {
     "data": {
      "text/html": [
       "<div>\n",
       "<style scoped>\n",
       "    .dataframe tbody tr th:only-of-type {\n",
       "        vertical-align: middle;\n",
       "    }\n",
       "\n",
       "    .dataframe tbody tr th {\n",
       "        vertical-align: top;\n",
       "    }\n",
       "\n",
       "    .dataframe thead th {\n",
       "        text-align: right;\n",
       "    }\n",
       "</style>\n",
       "<table border=\"1\" class=\"dataframe\">\n",
       "  <thead>\n",
       "    <tr style=\"text-align: right;\">\n",
       "      <th></th>\n",
       "      <th>PassengerId</th>\n",
       "      <th>HomePlanet</th>\n",
       "      <th>CryoSleep</th>\n",
       "      <th>Cabin</th>\n",
       "      <th>Destination</th>\n",
       "      <th>Age</th>\n",
       "      <th>VIP</th>\n",
       "      <th>RoomService</th>\n",
       "      <th>FoodCourt</th>\n",
       "      <th>ShoppingMall</th>\n",
       "      <th>Spa</th>\n",
       "      <th>VRDeck</th>\n",
       "      <th>Name</th>\n",
       "    </tr>\n",
       "  </thead>\n",
       "  <tbody>\n",
       "    <tr>\n",
       "      <th>0</th>\n",
       "      <td>0013_01</td>\n",
       "      <td>Earth</td>\n",
       "      <td>True</td>\n",
       "      <td>G/3/S</td>\n",
       "      <td>TRAPPIST-1e</td>\n",
       "      <td>27.0</td>\n",
       "      <td>False</td>\n",
       "      <td>0.0</td>\n",
       "      <td>0.0</td>\n",
       "      <td>0.0</td>\n",
       "      <td>0.0</td>\n",
       "      <td>0.0</td>\n",
       "      <td>Nelly Carsoning</td>\n",
       "    </tr>\n",
       "    <tr>\n",
       "      <th>1</th>\n",
       "      <td>0018_01</td>\n",
       "      <td>Earth</td>\n",
       "      <td>False</td>\n",
       "      <td>F/4/S</td>\n",
       "      <td>TRAPPIST-1e</td>\n",
       "      <td>19.0</td>\n",
       "      <td>False</td>\n",
       "      <td>0.0</td>\n",
       "      <td>9.0</td>\n",
       "      <td>0.0</td>\n",
       "      <td>2823.0</td>\n",
       "      <td>0.0</td>\n",
       "      <td>Lerome Peckers</td>\n",
       "    </tr>\n",
       "    <tr>\n",
       "      <th>2</th>\n",
       "      <td>0019_01</td>\n",
       "      <td>Europa</td>\n",
       "      <td>True</td>\n",
       "      <td>C/0/S</td>\n",
       "      <td>55 Cancri e</td>\n",
       "      <td>31.0</td>\n",
       "      <td>False</td>\n",
       "      <td>0.0</td>\n",
       "      <td>0.0</td>\n",
       "      <td>0.0</td>\n",
       "      <td>0.0</td>\n",
       "      <td>0.0</td>\n",
       "      <td>Sabih Unhearfus</td>\n",
       "    </tr>\n",
       "    <tr>\n",
       "      <th>3</th>\n",
       "      <td>0021_01</td>\n",
       "      <td>Europa</td>\n",
       "      <td>False</td>\n",
       "      <td>C/1/S</td>\n",
       "      <td>TRAPPIST-1e</td>\n",
       "      <td>38.0</td>\n",
       "      <td>False</td>\n",
       "      <td>0.0</td>\n",
       "      <td>6652.0</td>\n",
       "      <td>0.0</td>\n",
       "      <td>181.0</td>\n",
       "      <td>585.0</td>\n",
       "      <td>Meratz Caltilter</td>\n",
       "    </tr>\n",
       "    <tr>\n",
       "      <th>4</th>\n",
       "      <td>0023_01</td>\n",
       "      <td>Earth</td>\n",
       "      <td>False</td>\n",
       "      <td>F/5/S</td>\n",
       "      <td>TRAPPIST-1e</td>\n",
       "      <td>20.0</td>\n",
       "      <td>False</td>\n",
       "      <td>10.0</td>\n",
       "      <td>0.0</td>\n",
       "      <td>635.0</td>\n",
       "      <td>0.0</td>\n",
       "      <td>0.0</td>\n",
       "      <td>Brence Harperez</td>\n",
       "    </tr>\n",
       "  </tbody>\n",
       "</table>\n",
       "</div>"
      ],
      "text/plain": [
       "  PassengerId HomePlanet CryoSleep  Cabin  Destination   Age    VIP  \\\n",
       "0     0013_01      Earth      True  G/3/S  TRAPPIST-1e  27.0  False   \n",
       "1     0018_01      Earth     False  F/4/S  TRAPPIST-1e  19.0  False   \n",
       "2     0019_01     Europa      True  C/0/S  55 Cancri e  31.0  False   \n",
       "3     0021_01     Europa     False  C/1/S  TRAPPIST-1e  38.0  False   \n",
       "4     0023_01      Earth     False  F/5/S  TRAPPIST-1e  20.0  False   \n",
       "\n",
       "   RoomService  FoodCourt  ShoppingMall     Spa  VRDeck              Name  \n",
       "0          0.0        0.0           0.0     0.0     0.0   Nelly Carsoning  \n",
       "1          0.0        9.0           0.0  2823.0     0.0    Lerome Peckers  \n",
       "2          0.0        0.0           0.0     0.0     0.0   Sabih Unhearfus  \n",
       "3          0.0     6652.0           0.0   181.0   585.0  Meratz Caltilter  \n",
       "4         10.0        0.0         635.0     0.0     0.0   Brence Harperez  "
      ]
     },
     "execution_count": 10,
     "metadata": {},
     "output_type": "execute_result"
    }
   ],
   "source": [
    "test.head()"
   ]
  },
  {
   "cell_type": "code",
   "execution_count": 11,
   "id": "30272ca8",
   "metadata": {
    "execution": {
     "iopub.execute_input": "2024-09-07T03:05:30.224091Z",
     "iopub.status.busy": "2024-09-07T03:05:30.223541Z",
     "iopub.status.idle": "2024-09-07T03:05:30.242932Z",
     "shell.execute_reply": "2024-09-07T03:05:30.241674Z"
    },
    "papermill": {
     "duration": 0.03443,
     "end_time": "2024-09-07T03:05:30.245907",
     "exception": false,
     "start_time": "2024-09-07T03:05:30.211477",
     "status": "completed"
    },
    "tags": []
   },
   "outputs": [
    {
     "data": {
      "text/plain": [
       "PassengerId    4277\n",
       "HomePlanet        3\n",
       "CryoSleep         2\n",
       "Cabin          3265\n",
       "Destination       3\n",
       "VIP               2\n",
       "Name           4176\n",
       "dtype: int64"
      ]
     },
     "execution_count": 11,
     "metadata": {},
     "output_type": "execute_result"
    }
   ],
   "source": [
    "test.select_dtypes(include=\"object\").nunique()"
   ]
  },
  {
   "cell_type": "code",
   "execution_count": 12,
   "id": "e0813f99",
   "metadata": {
    "execution": {
     "iopub.execute_input": "2024-09-07T03:05:30.267363Z",
     "iopub.status.busy": "2024-09-07T03:05:30.266915Z",
     "iopub.status.idle": "2024-09-07T03:05:30.283267Z",
     "shell.execute_reply": "2024-09-07T03:05:30.281946Z"
    },
    "papermill": {
     "duration": 0.030367,
     "end_time": "2024-09-07T03:05:30.286060",
     "exception": false,
     "start_time": "2024-09-07T03:05:30.255693",
     "status": "completed"
    },
    "tags": []
   },
   "outputs": [
    {
     "data": {
      "text/plain": [
       "PassengerId    4277\n",
       "HomePlanet        3\n",
       "CryoSleep         2\n",
       "Cabin          3265\n",
       "Destination       3\n",
       "VIP               2\n",
       "Name           4176\n",
       "dtype: int64"
      ]
     },
     "execution_count": 12,
     "metadata": {},
     "output_type": "execute_result"
    }
   ],
   "source": [
    "test.select_dtypes(include=\"object\").nunique()"
   ]
  },
  {
   "cell_type": "code",
   "execution_count": 13,
   "id": "6c94f0fb",
   "metadata": {
    "execution": {
     "iopub.execute_input": "2024-09-07T03:05:30.308949Z",
     "iopub.status.busy": "2024-09-07T03:05:30.307956Z",
     "iopub.status.idle": "2024-09-07T03:05:30.315064Z",
     "shell.execute_reply": "2024-09-07T03:05:30.313793Z"
    },
    "papermill": {
     "duration": 0.021347,
     "end_time": "2024-09-07T03:05:30.317743",
     "exception": false,
     "start_time": "2024-09-07T03:05:30.296396",
     "status": "completed"
    },
    "tags": []
   },
   "outputs": [
    {
     "name": "stdout",
     "output_type": "stream",
     "text": [
      "['Earth' 'Europa' 'Mars' nan]\n"
     ]
    }
   ],
   "source": [
    "unique_HomePlanet = test['HomePlanet'].unique()\n",
    "print(unique_HomePlanet)"
   ]
  },
  {
   "cell_type": "code",
   "execution_count": 14,
   "id": "ae86efc7",
   "metadata": {
    "execution": {
     "iopub.execute_input": "2024-09-07T03:05:30.339721Z",
     "iopub.status.busy": "2024-09-07T03:05:30.339302Z",
     "iopub.status.idle": "2024-09-07T03:05:30.855181Z",
     "shell.execute_reply": "2024-09-07T03:05:30.853290Z"
    },
    "papermill": {
     "duration": 0.529818,
     "end_time": "2024-09-07T03:05:30.857449",
     "exception": true,
     "start_time": "2024-09-07T03:05:30.327631",
     "status": "failed"
    },
    "tags": []
   },
   "outputs": [
    {
     "ename": "NameError",
     "evalue": "name 'train' is not defined",
     "output_type": "error",
     "traceback": [
      "\u001b[0;31m---------------------------------------------------------------------------\u001b[0m",
      "\u001b[0;31mNameError\u001b[0m                                 Traceback (most recent call last)",
      "Cell \u001b[0;32mIn[14], line 1\u001b[0m\n\u001b[0;32m----> 1\u001b[0m unique_HomePlanet \u001b[38;5;241m=\u001b[39m \u001b[43mtrain\u001b[49m[\u001b[38;5;124m'\u001b[39m\u001b[38;5;124mHomePlanet\u001b[39m\u001b[38;5;124m'\u001b[39m]\u001b[38;5;241m.\u001b[39mvalue_counts()\n\u001b[1;32m      2\u001b[0m \u001b[38;5;28mprint\u001b[39m(unique_HomePlanet)\n",
      "\u001b[0;31mNameError\u001b[0m: name 'train' is not defined"
     ]
    }
   ],
   "source": [
    "unique_HomePlanet = train['HomePlanet'].value_counts()\n",
    "print(unique_HomePlanet)"
   ]
  },
  {
   "cell_type": "code",
   "execution_count": null,
   "id": "070bd5a2",
   "metadata": {
    "execution": {
     "iopub.execute_input": "2024-09-07T02:51:46.345011Z",
     "iopub.status.busy": "2024-09-07T02:51:46.344347Z",
     "iopub.status.idle": "2024-09-07T02:51:46.358993Z",
     "shell.execute_reply": "2024-09-07T02:51:46.357703Z",
     "shell.execute_reply.started": "2024-09-07T02:51:46.344957Z"
    },
    "papermill": {
     "duration": null,
     "end_time": null,
     "exception": null,
     "start_time": null,
     "status": "pending"
    },
    "tags": []
   },
   "outputs": [],
   "source": [
    "unique_HomePlanet = train['HomePlanet'].head()\n",
    "print(unique_HomePlanet)"
   ]
  },
  {
   "cell_type": "code",
   "execution_count": null,
   "id": "ed09725e",
   "metadata": {
    "execution": {
     "iopub.execute_input": "2024-09-07T02:51:46.360966Z",
     "iopub.status.busy": "2024-09-07T02:51:46.360539Z",
     "iopub.status.idle": "2024-09-07T02:51:46.385319Z",
     "shell.execute_reply": "2024-09-07T02:51:46.383602Z",
     "shell.execute_reply.started": "2024-09-07T02:51:46.360928Z"
    },
    "papermill": {
     "duration": null,
     "end_time": null,
     "exception": null,
     "start_time": null,
     "status": "pending"
    },
    "tags": []
   },
   "outputs": [],
   "source": [
    "test.isnull().sum()[test.isnull().sum() > 0]"
   ]
  },
  {
   "cell_type": "code",
   "execution_count": null,
   "id": "08501b80",
   "metadata": {
    "execution": {
     "iopub.execute_input": "2024-09-07T02:51:46.387124Z",
     "iopub.status.busy": "2024-09-07T02:51:46.386748Z",
     "iopub.status.idle": "2024-09-07T02:51:46.425826Z",
     "shell.execute_reply": "2024-09-07T02:51:46.424626Z",
     "shell.execute_reply.started": "2024-09-07T02:51:46.387085Z"
    },
    "papermill": {
     "duration": null,
     "end_time": null,
     "exception": null,
     "start_time": null,
     "status": "pending"
    },
    "tags": []
   },
   "outputs": [],
   "source": [
    "df1 = (train.isnull().sum()[train.isnull().sum()>0]).to_frame().rename(columns={0:\"Number of Missing values\"})\n",
    "df1[\"% of Missing Values\"] = round((100*train.isnull().sum()[train.isnull().sum()>0]/len(train)),2)\n",
    "df1"
   ]
  },
  {
   "cell_type": "code",
   "execution_count": null,
   "id": "d9b709ad",
   "metadata": {
    "execution": {
     "iopub.execute_input": "2024-09-07T02:51:46.427589Z",
     "iopub.status.busy": "2024-09-07T02:51:46.427172Z",
     "iopub.status.idle": "2024-09-07T02:51:46.452342Z",
     "shell.execute_reply": "2024-09-07T02:51:46.451101Z",
     "shell.execute_reply.started": "2024-09-07T02:51:46.427548Z"
    },
    "papermill": {
     "duration": null,
     "end_time": null,
     "exception": null,
     "start_time": null,
     "status": "pending"
    },
    "tags": []
   },
   "outputs": [],
   "source": [
    "df2 = (test.isnull().sum()[test.isnull().sum()>0]).to_frame().rename(columns={0:\"Number of Missing values\"})\n",
    "df2[\"% of Missing Values\"] = round((100*test.isnull().sum()[test.isnull().sum()>0]/len(test)),2)\n",
    "df2"
   ]
  },
  {
   "cell_type": "code",
   "execution_count": null,
   "id": "a0bd621f",
   "metadata": {
    "execution": {
     "iopub.execute_input": "2024-09-07T02:51:46.454884Z",
     "iopub.status.busy": "2024-09-07T02:51:46.454458Z",
     "iopub.status.idle": "2024-09-07T02:51:46.600890Z",
     "shell.execute_reply": "2024-09-07T02:51:46.599647Z",
     "shell.execute_reply.started": "2024-09-07T02:51:46.454844Z"
    },
    "papermill": {
     "duration": null,
     "end_time": null,
     "exception": null,
     "start_time": null,
     "status": "pending"
    },
    "tags": []
   },
   "outputs": [],
   "source": [
    "plt.figure(figsize=(10, 6))\n",
    "plt.pie(\n",
    "    train[\"Transported\"].value_counts(),\n",
    "    labels=train[\"Transported\"].value_counts().index,\n",
    "    autopct=\"%1.1f%%\",\n",
    "    textprops={\"fontsize\": 20, \"fontweight\": \"bold\"},\n",
    "    colors=sns.color_palette(\"Set1\")\n",
    ")\n",
    "plt.title(\"Transported Feature Distribution\")\n",
    "plt.show()"
   ]
  },
  {
   "cell_type": "code",
   "execution_count": null,
   "id": "ec30e35f",
   "metadata": {
    "execution": {
     "iopub.execute_input": "2024-09-07T02:56:18.169175Z",
     "iopub.status.busy": "2024-09-07T02:56:18.168729Z",
     "iopub.status.idle": "2024-09-07T02:56:18.817220Z",
     "shell.execute_reply": "2024-09-07T02:56:18.815805Z",
     "shell.execute_reply.started": "2024-09-07T02:56:18.169137Z"
    },
    "papermill": {
     "duration": null,
     "end_time": null,
     "exception": null,
     "start_time": null,
     "status": "pending"
    },
    "tags": []
   },
   "outputs": [],
   "source": [
    "import warnings\n",
    "warnings.filterwarnings('ignore', category=FutureWarning)\n",
    "\n",
    "train['Age'].replace([np.inf, -np.inf], np.nan, inplace=True)\n",
    "\n",
    "# Plotting the histogram\n",
    "plt.figure(figsize=(16,6))\n",
    "sns.histplot(x=train[\"Age\"], hue=\"Transported\", data=train, kde=True, palette=\"Set2\")\n",
    "plt.title(\"Age Feature Distribution\")\n",
    "plt.show()"
   ]
  },
  {
   "cell_type": "code",
   "execution_count": null,
   "id": "a52bc5e9",
   "metadata": {
    "execution": {
     "iopub.execute_input": "2024-09-07T02:56:36.120342Z",
     "iopub.status.busy": "2024-09-07T02:56:36.119847Z",
     "iopub.status.idle": "2024-09-07T02:56:39.434143Z",
     "shell.execute_reply": "2024-09-07T02:56:39.432912Z",
     "shell.execute_reply.started": "2024-09-07T02:56:36.120304Z"
    },
    "papermill": {
     "duration": null,
     "end_time": null,
     "exception": null,
     "start_time": null,
     "status": "pending"
    },
    "tags": []
   },
   "outputs": [],
   "source": [
    "exp_cols = [\"RoomService\",\"FoodCourt\",\"ShoppingMall\",\"Spa\",\"VRDeck\"]\n",
    "\n",
    "plt.figure(figsize=(14,10))\n",
    "for idx,column in enumerate(exp_cols):\n",
    "    plt.subplot(3,2,idx+1)\n",
    "    sns.histplot(x=column, hue=\"Transported\", data=train,bins=30,kde=True,palette=\"Set2\")\n",
    "    plt.title(f\"{column} Distribution\")\n",
    "    plt.ylim(0,100)\n",
    "    plt.tight_layout()"
   ]
  },
  {
   "cell_type": "code",
   "execution_count": null,
   "id": "fa2928d7",
   "metadata": {
    "execution": {
     "iopub.execute_input": "2024-09-07T02:57:49.807808Z",
     "iopub.status.busy": "2024-09-07T02:57:49.807333Z",
     "iopub.status.idle": "2024-09-07T02:57:51.354884Z",
     "shell.execute_reply": "2024-09-07T02:57:51.353418Z",
     "shell.execute_reply.started": "2024-09-07T02:57:49.807766Z"
    },
    "papermill": {
     "duration": null,
     "end_time": null,
     "exception": null,
     "start_time": null,
     "status": "pending"
    },
    "tags": []
   },
   "outputs": [],
   "source": [
    "cat_col = [\"HomePlanet\",\"CryoSleep\",\"Destination\",\"VIP\"]\n",
    "\n",
    "plt.figure(figsize=(12,20))\n",
    "for idx,column in enumerate(cat_col):\n",
    "    plt.subplot(4,1,idx+1)\n",
    "    sns.countplot(x=column, hue=\"Transported\", data=train, palette=\"Set2\")\n",
    "    plt.title(f\"{column} Distribution\")\n",
    "    plt.tight_layout()"
   ]
  },
  {
   "cell_type": "code",
   "execution_count": null,
   "id": "b127552a",
   "metadata": {
    "papermill": {
     "duration": null,
     "end_time": null,
     "exception": null,
     "start_time": null,
     "status": "pending"
    },
    "tags": []
   },
   "outputs": [],
   "source": []
  }
 ],
 "metadata": {
  "kaggle": {
   "accelerator": "none",
   "dataSources": [
    {
     "databundleVersionId": 3220602,
     "sourceId": 34377,
     "sourceType": "competition"
    }
   ],
   "dockerImageVersionId": 30761,
   "isGpuEnabled": false,
   "isInternetEnabled": false,
   "language": "python",
   "sourceType": "notebook"
  },
  "kernelspec": {
   "display_name": "Python 3",
   "language": "python",
   "name": "python3"
  },
  "language_info": {
   "codemirror_mode": {
    "name": "ipython",
    "version": 3
   },
   "file_extension": ".py",
   "mimetype": "text/x-python",
   "name": "python",
   "nbconvert_exporter": "python",
   "pygments_lexer": "ipython3",
   "version": "3.10.14"
  },
  "papermill": {
   "default_parameters": {},
   "duration": 7.835403,
   "end_time": "2024-09-07T03:05:31.590193",
   "environment_variables": {},
   "exception": true,
   "input_path": "__notebook__.ipynb",
   "output_path": "__notebook__.ipynb",
   "parameters": {},
   "start_time": "2024-09-07T03:05:23.754790",
   "version": "2.6.0"
  }
 },
 "nbformat": 4,
 "nbformat_minor": 5
}
